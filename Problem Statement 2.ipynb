{
 "cells": [
  {
   "cell_type": "code",
   "execution_count": 1,
   "metadata": {},
   "outputs": [],
   "source": [
    "def RPS_Winner(inputvalue):\n",
    "    inputvalue = inputvalue.upper()\n",
    "    \n",
    "    if len(inputvalue) != 2:\n",
    "        print(\"Invalid input\")\n",
    "        return\n",
    "    \n",
    "    inputvalue = str(inputvalue)\n",
    "    a_input = inputvalue[0]\n",
    "    b_input = inputvalue[1]\n",
    "    \n",
    "    validinput = {'R','P','S'}\n",
    "    if a_input not in validinput:\n",
    "        print(\"Player A input is not valid\")\n",
    "        return\n",
    "    \n",
    "    if b_input not in validinput:\n",
    "        print(\"Player B input is not valid\")\n",
    "        return\n",
    "    \n",
    "    if a_input == b_input:\n",
    "        print(\"DRAW\")\n",
    "        return\n",
    "    \n",
    "    elif (a_input == \"R\" and b_input == \"S\") or (a_input == \"S\" and b_input == \"P\") or (a_input == \"P\" and b_input == \"R\"):\n",
    "        print(\"A\")\n",
    "        return\n",
    "    \n",
    "    elif (b_input == \"R\" and a_input == \"S\") or (a_input == \"P\" and b_input == \"S\") or (a_input == \"R\" and b_input == \"P\"):\n",
    "        print(\"B\")\n",
    "        return"
   ]
  },
  {
   "cell_type": "code",
   "execution_count": 2,
   "metadata": {},
   "outputs": [
    {
     "name": "stdout",
     "output_type": "stream",
     "text": [
      "User Input: tt\n",
      "Player A input is not valid\n",
      "User Input: stop\n",
      "Exit GAME..!!\n"
     ]
    }
   ],
   "source": [
    "while True:\n",
    "    Userinput = input(\"User Input: \")\n",
    "    Userinput = Userinput.upper()\n",
    "    if Userinput != \"STOP\":\n",
    "        RPS_Winner(Userinput)\n",
    "    else:\n",
    "        print(\"Exit GAME..!!\")\n",
    "        break"
   ]
  },
  {
   "cell_type": "code",
   "execution_count": null,
   "metadata": {},
   "outputs": [],
   "source": []
  },
  {
   "cell_type": "code",
   "execution_count": null,
   "metadata": {},
   "outputs": [],
   "source": []
  }
 ],
 "metadata": {
  "kernelspec": {
   "display_name": "Python 3",
   "language": "python",
   "name": "python3"
  },
  "language_info": {
   "codemirror_mode": {
    "name": "ipython",
    "version": 3
   },
   "file_extension": ".py",
   "mimetype": "text/x-python",
   "name": "python",
   "nbconvert_exporter": "python",
   "pygments_lexer": "ipython3",
   "version": "3.7.3"
  }
 },
 "nbformat": 4,
 "nbformat_minor": 2
}
